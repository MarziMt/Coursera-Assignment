{
 "cells": [
  {
   "cell_type": "markdown",
   "id": "9b42da3b-caab-4342-81c4-37ca2a405b5b",
   "metadata": {},
   "source": [
    "# Data Science Tools and Ecosystem"
   ]
  },
  {
   "cell_type": "markdown",
   "id": "3acc03ae-c7aa-4661-857f-6a3794fb4efa",
   "metadata": {},
   "source": [
    "## In this notebook, Data Science Tools and Ecosystem are summarized."
   ]
  },
  {
   "cell_type": "markdown",
   "id": "9c2ed0c0-dd19-46dc-ba71-acc8773f7ba3",
   "metadata": {},
   "source": [
    "**Objectives:**\n",
    "- List popular languages for Data Science\n",
    "- List commonly used libraries used by Data Scientists\n",
    "- Some of development environment open source tools used in data science"
   ]
  },
  {
   "cell_type": "markdown",
   "id": "83c5de06-4167-4ea3-bab3-2173b10565c8",
   "metadata": {},
   "source": [
    "### Some of the popular languages that Data Scientists use are:"
   ]
  },
  {
   "cell_type": "markdown",
   "id": "f48e98bb-3589-4f9f-91c4-04bb9343d0b0",
   "metadata": {},
   "source": [
    "1. Python\n",
    "2. Java\n",
    "3. R\n",
    "4. SQL\n",
    "5. Java"
   ]
  },
  {
   "cell_type": "markdown",
   "id": "80ca1b46-c392-4c16-bf82-0a58781f24cf",
   "metadata": {},
   "source": [
    "### Some of the commonly used libraries used by Data Scientists include:"
   ]
  },
  {
   "cell_type": "markdown",
   "id": "f9591dd4-0e55-4454-9e09-665b80447de8",
   "metadata": {},
   "source": [
    "1. Matplotlib\n",
    "2. NumPy\n",
    "3. SciPy\n",
    "4. PyTorch\n",
    "5. TensorFlow"
   ]
  },
  {
   "cell_type": "markdown",
   "id": "32a7444e-01cd-4bfb-8350-06a94baf10e6",
   "metadata": {},
   "source": [
    "| Data Science Tools |\n",
    "| ----------------|\n",
    "| JupyterNotebook |\n",
    "| VS Code |\n",
    "| JupyterLab |"
   ]
  },
  {
   "cell_type": "markdown",
   "id": "fc121312-8c1e-4fbf-8885-18ff786faa6e",
   "metadata": {},
   "source": [
    "### Below are a few examples of evaluating arithmetic expressions in Python"
   ]
  },
  {
   "cell_type": "code",
   "execution_count": 1,
   "id": "9e30fd5e-54d2-4837-abd8-4ade9339de58",
   "metadata": {},
   "outputs": [
    {
     "data": {
      "text/plain": [
       "17"
      ]
     },
     "execution_count": 1,
     "metadata": {},
     "output_type": "execute_result"
    }
   ],
   "source": [
    "#This a simple arithmetic expression to mutiply then add integers \n",
    "(3*4)+5"
   ]
  },
  {
   "cell_type": "code",
   "execution_count": 2,
   "id": "c079e01b-9645-407e-8f9b-71f501dfedbf",
   "metadata": {},
   "outputs": [
    {
     "data": {
      "text/plain": [
       "3.3333333333333335"
      ]
     },
     "execution_count": 2,
     "metadata": {},
     "output_type": "execute_result"
    }
   ],
   "source": [
    "#This will convert 200 minutes to hours by diving by 60\n",
    "200/60"
   ]
  },
  {
   "cell_type": "markdown",
   "id": "50209b19-8771-404a-bd96-a027bad53cb3",
   "metadata": {},
   "source": [
    "## Author\n",
    "Marzieh Motlaghi"
   ]
  }
 ],
 "metadata": {
  "kernelspec": {
   "display_name": "anaconda-2022.05-py39",
   "language": "python",
   "name": "conda-env-anaconda-2022.05-py39-py"
  },
  "language_info": {
   "codemirror_mode": {
    "name": "ipython",
    "version": 3
   },
   "file_extension": ".py",
   "mimetype": "text/x-python",
   "name": "python",
   "nbconvert_exporter": "python",
   "pygments_lexer": "ipython3",
   "version": "3.9.12"
  }
 },
 "nbformat": 4,
 "nbformat_minor": 5
}
